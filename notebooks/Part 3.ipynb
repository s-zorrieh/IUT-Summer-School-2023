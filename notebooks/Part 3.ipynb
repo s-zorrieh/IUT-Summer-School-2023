{
 "cells": [
  {
   "cell_type": "code",
   "execution_count": null,
   "id": "110dc0cd",
   "metadata": {
    "direction": "ltr"
   },
   "outputs": [],
   "source": [
    "DIR=\"../inputs/RootFiles/\"\n",
    "import ROOT\n",
    "%jsroot on\n",
    "canvas = ROOT.TCanvas(\"c1\", \"\", 200, 10, 1000, 1000)\n",
    "ROOT.gStyle.SetOptStat(0)\n",
    "ROOT.gStyle.SetOptTitle(0)"
   ]
  },
  {
   "cell_type": "markdown",
   "id": "a863cac4",
   "metadata": {},
   "source": [
    "# More functions... "
   ]
  },
  {
   "cell_type": "code",
   "execution_count": null,
   "id": "680ebe90",
   "metadata": {},
   "outputs": [],
   "source": [
    "lumi = {12:11580. , 11:2330.}\n",
    "\n",
    "\n",
    "def get_histogram(file_dir, key, **hist_args):\n",
    "    with ROOT.TFile.Open(f\"{DIR}/{file_dir}\") as file:\n",
    "        hist = file.demo.Get(key)\n",
    "        hist.SetDirectory(0)\n",
    "        \n",
    "    if \"title\" in hist_args:\n",
    "        title = hist_args[\"title\"]\n",
    "        hist.SetTitle(title)\n",
    "    \n",
    "    if \"scale\" in hist_args:\n",
    "        scale = hist_args[\"scale\"]\n",
    "        hist.Scale(scale)\n",
    "        \n",
    "    return hist\n",
    "\n",
    "\n",
    "def modify_histogram(hist, **hist_args):\n",
    "\n",
    "    if \"title\" in hist_args:\n",
    "        title = hist_args[\"title\"]\n",
    "        hist.SetTitle(title)\n",
    "    \n",
    "    if \"scale\" in hist_args:\n",
    "        scale = hist_args[\"scale\"]\n",
    "        hist.Scale(scale)\n",
    "\n",
    "\n",
    "def histogram_stack(name, historams, last=False):\n",
    "    stack = ROOT.THStack(name , \"\")\n",
    "    for hist in historams:\n",
    "        stack.Add(hist)\n",
    "\n",
    "    return stack\n",
    "\n",
    "\n",
    "def ZZto4lep_hists():\n",
    "    sfZZ = 1.386\n",
    "    zz_xsections = {12:{'4e':0.077 , '4mu':0.077 , '2mu2e':0.18},\n",
    "                    11:{'4e':0.067 , '4mu':0.067 , '2mu2e':0.15}}\n",
    "\n",
    "    zz_totals = {12:{'4mu':1499064 , '4e':1499093 , '2mu2e':1497445},\n",
    "                11:{'4mu':1447136 , '4e':1493308 , '2mu2e':1479879}}\n",
    "\n",
    "    hists = []\n",
    "    for decaymode in ['4mu' , '4e' , '2mu2e']:\n",
    "        for year in [11,12]:\n",
    "\n",
    "            file_directory  = f\"20{year}/simulation/ZZ{decaymode}{year}.root\"\n",
    "            file_key        = f\"mass{decaymode}_8TeV_low\"\n",
    "            scale_factor    = zz_xsections[year][decaymode]*lumi[year]*sfZZ / zz_totals[year][decaymode] \n",
    "            histogram_title = f\"{decaymode.replace('mu' , '#mu')}, 20{year}\"\n",
    "\n",
    "            h = get_histogram(file_dir = file_directory,\n",
    "                              key      = file_key,\n",
    "                              scale    = scale_factor,\n",
    "                              title    = histogram_title)\n",
    "            hists.append(h)\n",
    "\n",
    "    return hists\n",
    "\n",
    "def TTbarto4lep_hists():\n",
    "    tt_xsections = {12:200. , 11:177.31}\n",
    "    tt_totals    = {12:6423106 , 11:9771205}\n",
    "    sfTTBar      = {11:0.11 , 12:1 }\n",
    "\n",
    "    hists = []\n",
    "\n",
    "    for year in [11,12]:\n",
    "        file_directory = f\"20{year}/simulation/TTBar{year}.root\"\n",
    "\n",
    "        for decaymode in ['4mu' , '4e' , '2mu2e']:\n",
    "            file_key          = f\"mass{decaymode}_8TeV_low\"\n",
    "            scale_factor = tt_xsections[year]*lumi[year]*sfTTBar[year] / tt_totals[year]\n",
    "            histogram_title        = \"{0}, 20{1}\".format( decaymode.replace('mu' , '#mu') ,year)\n",
    "\n",
    "            current_hist = get_histogram(file_dir = file_directory,\n",
    "                              key      = file_key,\n",
    "                              scale    = scale_factor,\n",
    "                              title    = histogram_title)\n",
    "\n",
    "            hists.append(current_hist)\n",
    "\n",
    "    return hists\n",
    "\n",
    "\n",
    "def DrellYan_hists():\n",
    "    dy_xsections = {12:{10:10.742 , 50:2955.} ,\n",
    "                   11:{10:9507. , 50:2475.}}\n",
    "    dy_totals    = {12:{10:6462290 , 50:29426492},\n",
    "                    11:{10:39909640, 50:36408225}}\n",
    "    \n",
    "    sfDY = 1.12\n",
    "    \n",
    "    hists = []\n",
    "    for mass in [10,50]:\n",
    "        fname_extension = 'TuneZ' if mass == 50 else ''\n",
    "        for year in [11,12]:\n",
    "            file_directory = f\"20{year}/simulation/DY{mass}{fname_extension}{year}.root\"\n",
    "\n",
    "            for decaymode in ['4mu' , '4e' , '2mu2e']:\n",
    "                file_key = f\"mass{decaymode}_8TeV_low\"\n",
    "                scale_factor = dy_xsections[year][mass]*lumi[year]*sfDY / dy_totals[year][mass]\n",
    "                histogram_title = \"DY({2}), {0}, 20{1}\".format( decaymode.replace('mu' , '#mu') ,year , mass)\n",
    "\n",
    "                current_hist = get_histogram(file_dir = file_directory,\n",
    "                                             key      = file_key,\n",
    "                                             scale    = scale_factor,\n",
    "                                             title    = histogram_title)\n",
    "\n",
    "                hists.append(current_hist)\n",
    "\n",
    "    return hists\n",
    "    \n",
    "    "
   ]
  },
  {
   "cell_type": "markdown",
   "id": "9e228131",
   "metadata": {
    "direction": "rtl"
   },
   "source": [
    "<div dir=\"rtl\">\n",
    "  <p>\n",
    "    در این تمرین میخواهیم نمودار داده ها که در بخش اول به دست اورده ایم با مجموع شبیه سازی هایی که تا به حال انجام داده ایم مقایسه کنیم و ببینیم آیا در داده ها هیگز وجود دارد؟\n",
    "  </p>\n",
    "  <p>\n",
    "    از نظر تکنیگی، به سادگی میتوان اخرین و بالاترین هیستوگرام موجود در THStack \n",
    "    را به عنوان جمع همه ی هیستوگرام ها داشت. برای این منظور میتوان از متد زیر استفاده کرد:\n",
    "      \n",
    "</div>"
   ]
  },
  {
   "cell_type": "markdown",
   "id": "2283fff0",
   "metadata": {},
   "source": [
    "`GetStack().Last()`"
   ]
  },
  {
   "cell_type": "markdown",
   "id": "c171b883",
   "metadata": {
    "direction": "rtl"
   },
   "source": [
    "<div dir=\"rtl\">\n",
    "  <p>\n",
    "    به تنظیماتی که برای تغییر نحوه ی نمایش نمودار ها اعمال شده دقت کنید.\n",
    "  </p>\n",
    "</div>"
   ]
  },
  {
   "cell_type": "markdown",
   "id": "f1daea88",
   "metadata": {},
   "source": [
    "# Histogram of the `Data!`"
   ]
  },
  {
   "cell_type": "code",
   "execution_count": null,
   "id": "6584304d",
   "metadata": {},
   "outputs": [],
   "source": [
    "ROOT.gStyle.SetPalette(ROOT.kRainBow)\n",
    "allHists = []\n",
    "for lep in ['Mu' , 'E']:\n",
    "    for year in [11,12]:\n",
    "        file_directory  = \"20{0}/data/Double{1}{0}.root\".format(year , lep)\n",
    "        file_key        = \"mass4{0}_8TeV_low\".format(lep.lower())\n",
    "        histogram_title = \"4{0}, 20{1}\".format( '#mu' if lep==\"Mu\" else 'e',year)\n",
    "        \n",
    "        h = get_histogram(file_dir = file_directory,\n",
    "                           key      = file_key,\n",
    "                           title    = histogram_title)\n",
    "        allHists.append(h)\n",
    "            \n",
    "        if lep=='Mu': #if the doubleMu file is opened, 2mu2e histogram should also be read\n",
    "            file_key        = \"mass2mu2e_8TeV_low\"\n",
    "            histogram_title = \"2#mu+2e, 20{0}\".format(year)\n",
    "            h = get_histogram(file_dir = file_directory,\n",
    "                              key      = file_key,\n",
    "                              title    = histogram_title)\n",
    "            allHists.append(h)\n",
    "\n",
    "Data_4l_stack = histogram_stack(\"Data4lep\", allHists)\n",
    "Data_4l = Data_4l_stack.GetStack().Last()\n",
    "\n",
    "# Formatting \n",
    "Data_4l.SetMarkerColor(ROOT.kBlack)\n",
    "Data_4l.SetMarkerStyle(20)\n",
    "Data_4l.SetMarkerSize(1.7)\n",
    "Data_4l.SetLineColor(ROOT.kBlack)\n",
    "Data_4l.SetLineWidth(1)\n",
    "Data_4l.Draw(\"PE1\")\n",
    "\n",
    "# Drawing\n",
    "canvas.Draw()"
   ]
  },
  {
   "cell_type": "markdown",
   "id": "93e7c005",
   "metadata": {},
   "source": [
    "# Extracting the background events histograms..."
   ]
  },
  {
   "cell_type": "markdown",
   "id": "f0ca9619",
   "metadata": {},
   "source": [
    "## Histogram of $ZZ \\rightarrow 4l$ Events"
   ]
  },
  {
   "cell_type": "code",
   "execution_count": null,
   "id": "311691a0",
   "metadata": {},
   "outputs": [],
   "source": [
    "ROOT.gStyle.SetPalette(ROOT.kRainBow)\n",
    "ZZto4l_stack = histogram_stack(\"ZZto4lep\", ZZto4lep_hists())\n",
    "\n",
    "ZZto4l = ZZto4l_stack.GetStack().Last()\n",
    "\n",
    "ZZto4l.SetLineColor(ROOT.kBlack)\n",
    "ZZto4l.SetFillColor(ROOT.kAzure -9)\n",
    "ZZto4l.SetLineWidth(2)\n",
    "ZZto4l.SetLineStyle(1)\n",
    "ZZto4l.Draw(\"hist\")\n",
    "\n",
    "canvas.Draw()"
   ]
  },
  {
   "cell_type": "markdown",
   "id": "66c408c0",
   "metadata": {
    "direction": "rtl"
   },
   "source": [
    "<div dir=\"rtl\">\n",
    "  <p>\n",
    "این نمودارها نشان دهنده ی مجموع تمام داده ها و مقادیر شبیه سازی شده برای\n",
    "    ZZ\n",
    "    نمایش داده شده. همین کار را برای ttbar و dy تکرار میکنیم:\n",
    "  </p>\n",
    "</div>"
   ]
  },
  {
   "cell_type": "markdown",
   "id": "fddc0dfd",
   "metadata": {},
   "source": [
    "## Histogram of $t\\bar{t}$ Events "
   ]
  },
  {
   "cell_type": "code",
   "execution_count": null,
   "id": "784a94af",
   "metadata": {
    "scrolled": true
   },
   "outputs": [],
   "source": [
    "TTbarto4l_stack = histogram_stack(\"TTbarto4l\", TTbarto4lep_hists())\n",
    "\n",
    "TTbarto4l = TTbarto4l_stack.GetStack().Last()\n",
    "TTbarto4l.SetLineColor(ROOT.kBlack)\n",
    "TTbarto4l.SetFillColor(ROOT.kGray)\n",
    "TTbarto4l.SetLineWidth(2)\n",
    "TTbarto4l.SetLineStyle(1)"
   ]
  },
  {
   "cell_type": "markdown",
   "id": "8dc695ee",
   "metadata": {},
   "source": [
    "## Histogram of Drell-Yan Events"
   ]
  },
  {
   "cell_type": "code",
   "execution_count": null,
   "id": "5b38fe15",
   "metadata": {},
   "outputs": [],
   "source": [
    "DYto4l_stack = histogra_stack(\"DYto4lep\", DrellYan_hists())\n",
    "\n",
    "DYto4l = DYto4l_stack.GetStack().Last()\n",
    "DYto4l.SetLineColor(ROOT.kBlack)\n",
    "DYto4l.SetFillColor(ROOT.kGreen -5)\n",
    "DYto4l.SetLineWidth(2)\n",
    "DYto4l.SetLineStyle(1)"
   ]
  },
  {
   "cell_type": "markdown",
   "id": "7bd4a22c",
   "metadata": {
    "direction": "rtl"
   },
   "source": [
    "<div dir=\"rtl\">\n",
    "  <p>\n",
    "با داشتن هیستوگرام تمام رویدادهای شبیه سازی شده، میتوان جمع شبیه سازی را با داده های اصلی مقایسه کرد.\n",
    "    کافی است هیستوگرامهای شبیه سازی را داخل stack قرار دهیم\n",
    "    و در کنار داده ی اصلی بکشیم. \n",
    "  </p>\n",
    "  <p>\n",
    "    در کد زیر، علاوه بر این کار یک legend هم ساخته شده\n",
    "    و در عکس نمایش داده میشود.\n",
    "  </p>\n",
    "</div>"
   ]
  },
  {
   "cell_type": "markdown",
   "id": "6cf9c915",
   "metadata": {},
   "source": [
    "# Compare Simulation with Data, Visually..."
   ]
  },
  {
   "cell_type": "code",
   "execution_count": null,
   "id": "80f3dd95",
   "metadata": {},
   "outputs": [],
   "source": [
    "simulation = histogram_stack(\"simulation\", [DYto4l, TTbarto4l, ZZto4l])\n",
    "\n",
    "leg = ROOT.TLegend(.62, .70, .82, .88)\n",
    "leg.SetFillColor(0)\n",
    "leg.SetBorderSize(0)\n",
    "leg.SetTextFont(42)\n",
    "leg.SetTextSize(0.038)\n",
    "\n",
    "leg.AddEntry(Data_4l, \"Data\", \"PE1\")\n",
    "leg.AddEntry(DYto4l, \"Z/#gamma* + X\", \"f\")\n",
    "leg.AddEntry(TTbarto4l, \"TTBar\", \"f\")\n",
    "leg.AddEntry(ZZto4l, \"ZZ -> 4l\", \"f\")\n",
    "\n",
    "simulation.Draw(\"hist\")\n",
    "Data_4l.Draw(\"PE1 same\")\n",
    "\n",
    "simulation.GetXaxis().SetTitle(\"m_{4l} (GeV)\")\n",
    "simulation.GetYaxis().SetTitle(\"Events / 3 GeV\")\n",
    "simulation.GetYaxis().SetTitleOffset(1.2)\n",
    "simulation.SetMaximum(30)\n",
    "\n",
    "txt1 = ROOT.TLatex()\n",
    "txt1.DrawTextNDC(0.15,0.84,\"CMS Open Data\")\n",
    "txt1.SetTextSize(0.03)\n",
    "txt1.SetNDC()\n",
    "txt1.SetTextFont(42)\n",
    "txt1.DrawLatex(0.14, 0.91, \"#sqrt{s} = 7 TeV, L = 2.3 fb^{-1}, #sqrt{s} = 8 TeV, L = 11.6 fb^{-1}\" )\n",
    "\n",
    "leg.Draw()\n",
    "canvas.Draw()"
   ]
  },
  {
   "cell_type": "markdown",
   "id": "56821fcc",
   "metadata": {
    "direction": "rtl"
   },
   "source": [
    "<div dir=\"rtl\">\n",
    "  <p>\n",
    "    به نظر میاد شبیه سازی تا حد خیلی خوبی میتونه داده ها رو توصیف کنه.\n",
    "    مخصوصا در نزدیک جرم بوزون \n",
    "    Z.\n",
    "  </p>\n",
    "  <p>\n",
    "    مقداری اختلاف بین داده و شبیه سازی در نزدیکی جرم ۱۲۵ گیگا الکترون ولت، و همچنین جرم ۱۴۵ وجود دارد.\n",
    "  </p>\n",
    "  <p>\n",
    "    <ul>\n",
    "      <li> سیگنیفیکنس اختلاف داده با شبیه سازی در این دو جرم چقدر است ؟\n",
    "      </li>\n",
    "  </ul>\n",
    "  </p>\n",
    "</div>"
   ]
  },
  {
   "cell_type": "markdown",
   "id": "e9f1e83d",
   "metadata": {},
   "source": [
    "# Statistical Significance of Oservations"
   ]
  },
  {
   "cell_type": "code",
   "execution_count": null,
   "id": "496124e3",
   "metadata": {},
   "outputs": [],
   "source": []
  },
  {
   "cell_type": "markdown",
   "id": "224355d6",
   "metadata": {},
   "source": [
    "<div dir=\"rtl\">\n",
    "<p>\n",
    "  حال پیش بینی استاندارد مدل برای تولید هیگز و واپاشی آن به چهار لپتون را شبیه سازی میکنیم. برای خواندن نتیجه ی شبیه سازی کافی است داده ها را از فایلهای مناسب بخوانیم و رسم کنیم:\n",
    "</p>\n",
    "</div>"
   ]
  },
  {
   "cell_type": "markdown",
   "id": "a1aca7bd",
   "metadata": {},
   "source": [
    "# Say 'Higgs!'"
   ]
  },
  {
   "cell_type": "code",
   "execution_count": null,
   "id": "65d166a4",
   "metadata": {
    "scrolled": false
   },
   "outputs": [],
   "source": [
    "scalexsecHZZ = {12:0.0065 , 11:0.0057}\n",
    "nevtHZZ = {12:299973 , 11:299683 }\n",
    "\n",
    "HzzPlot = ROOT.THStack(\"HzzPlot\" , \"\")\n",
    "\n",
    "for y in [11,12]:\n",
    "    f = ROOT.TFile.Open(\"{0}20{1}/simulation/HZZ{1}.root\".format(DIR , year ) )\n",
    "    for decaymode in ['4mu' , '4e' , '2mu2e']:\n",
    "        h = f.Get(\"demo/mass{0}_8TeV_low\".format(decaymode))\n",
    "        h.SetDirectory(0)\n",
    "        h.SetTitle(\"{0}, 20{1}\".format(decaymode , y))\n",
    "        h.Scale( lumi[y]*scalexsecHZZ[y]/nevtHZZ[y])\n",
    "        HzzPlot.Add( h )\n",
    "        \n",
    "HZZto4l = HzzPlot.GetStack().Last()\n",
    "HZZto4l.SetLineColor(ROOT.kRed)\n",
    "HZZto4l.SetLineWidth(2)\n",
    "HZZto4l.SetLineStyle(1)\n",
    "HZZto4l.SetFillStyle(0)\n",
    "HZZto4l.SetFillColor(0)\n",
    "\n",
    "HzzPlot.Draw(\"pfc plc pmc HIST\")\n",
    "HzzPlot.GetXaxis().SetTitle('m_{4l} [GeV]')\n",
    "canvas.BuildLegend(0.7,0.7,0.95,0.95 , \"Invariant mass of 4 leptons, pp -> H\", \"f\")\n",
    "canvas.Draw()"
   ]
  },
  {
   "cell_type": "markdown",
   "id": "534c45c8",
   "metadata": {
    "direction": "rtl"
   },
   "source": [
    "<div dir=\"rtl\">\n",
    "  <p>\n",
    "نمودار بالا نشان میدهند اگر هیگز با جرم ۱۲۵ گیگا الکترون ولت تولید شود، میتوان انتظار داشت ۵ تا از آن رویداد ها را در خانه ی مرکزی هیستوگرام نشان داده شده مشاهده کنیم\n",
    "  </p>\n",
    "\n",
    "</div>"
   ]
  },
  {
   "cell_type": "code",
   "execution_count": null,
   "id": "5d6a505a",
   "metadata": {},
   "outputs": [],
   "source": [
    "if not HiggsAdded:\n",
    "    leg.AddEntry(HZZto4l, \"m_{H} = 125 GeV\", \"f\")\n",
    "    simulation.Add(HZZto4l)\n",
    "    HiggsAdded = True\n",
    "\n",
    "simulation.Draw(\"hist\")\n",
    "Data_4l.Draw(\"PE1 same\")\n",
    "\n",
    "simulation.GetXaxis().SetTitle(\"m_{4l} (GeV)\")\n",
    "simulation.GetYaxis().SetTitle(\"Events / 3 GeV\")\n",
    "simulation.GetYaxis().SetTitleOffset(1.2)\n",
    "simulation.SetMaximum(30)\n",
    "\n",
    "txt1.DrawTextNDC(0.15,0.84,\"CMS Open Data\")\n",
    "txt1.SetTextSize(0.03)\n",
    "txt1.SetNDC()\n",
    "txt1.SetTextFont(42)\n",
    "txt1.DrawLatex(0.14, 0.91, \"#sqrt{s} = 7 TeV, L = 2.3 fb^{-1}, #sqrt{s} = 8 TeV, L = 11.6 fb^{-1}\" )\n",
    "\n",
    "leg.Draw()\n",
    "canvas.Draw()"
   ]
  },
  {
   "cell_type": "markdown",
   "id": "016fe023",
   "metadata": {
    "direction": "rtl"
   },
   "source": [
    "<div dir=\"rtl\">\n",
    " <p>\n",
    "   به وضوح معلوم است که این سیگنال میتواند اختلاف پس زمینه با داده ها را توصیف کند.\n",
    "  </p>\n",
    "  <h1>\n",
    "    باقی تمرین‌ها\n",
    "  </h1>\n",
    "  <ul>\n",
    "    <li>\n",
    "      <h2>\n",
    "        تمرین ۲\n",
    "      </h2>\n",
    "      <p>\n",
    "        نمودار جمع سیگنال و پس زمینه را از stack \n",
    "        استخراج کنید. با مقایسه ی آن با داده میتوان مقدار \n",
    "        χ2\n",
    "        را به راحتی میتوان از این مقایسه استخراج کرد. کافی است از متد \n",
    "        <code><a href=\"https://root.cern.ch/doc/master/classTH1.html#a6c281eebc0c0a848e7a0d620425090a5\">Chi2Test()</a></code>\n",
    "        هیستوگرام استفاده کنید.\n",
    "      </p>\n",
    "      <p>\n",
    "         مقدار \n",
    "        χ2\n",
    "        هیستوگرام ها را گزارش کنید.\n",
    "      </p>\n",
    "    </li>\n",
    "        <li>\n",
    "      <h2>\n",
    "تمرین ۳\n",
    "          </h2>\n",
    "      <p>\n",
    "        در مقایسه ی نمودار شبیه سازی با داده میتوان یک پارامتر اضافه کرد. میتوانیم قبل از اضافه کردن سیگنال به پس زمینه ها، سیگنال را در یک عدد که میتوانیم آن را «شدت سیگنال» بنامیم ضرب کنیم. دقت کنید که قبلا با دستور \n",
    "        <code>Scale</code>\n",
    "        از هیستوگرام آشنا شده اید. این کمیت را با μ معمولا نشان میدهیم.\n",
    "      </p>\n",
    "          <p>\n",
    "            مقدار μ \n",
    "            را بین ۰.۹ تا ۱.۱ در ۲۰ بازه تغییر دهید و برای هر کدام مقدار \n",
    "            χ2\n",
    "            را محاسبه کنید.\n",
    "          </p>\n",
    "          <p>\n",
    "            نمودار مقدار \n",
    "            χ2\n",
    "            بر حسب \n",
    "             μ \n",
    "            را رسم کنید و آن را تعبیر کنید.\n",
    "          </p>\n",
    "    </li>\n",
    "    <li>\n",
    "      <h2>\n",
    "        تمرین ۴\n",
    "      </h2>\n",
    "      <p>\n",
    "        ایا در مقاله ی کشف هیگز میتوانید نموداری پیدا کنید که نتیجه ی شما را تایید کند ؟\n",
    "      </p>\n",
    "      <a href=\"https://arxiv.org/pdf/1207.7235v2.pdf\">لینک مقاله</a>\n",
    "    </li>\n",
    "  </ul>\n",
    "</div>"
   ]
  },
  {
   "cell_type": "code",
   "execution_count": null,
   "id": "ff1c8ee1",
   "metadata": {},
   "outputs": [],
   "source": []
  }
 ],
 "metadata": {
  "@webio": {
   "lastCommId": null,
   "lastKernelId": null
  },
  "kernelspec": {
   "display_name": "Python 3",
   "language": "python",
   "name": "python3"
  },
  "language_info": {
   "codemirror_mode": {
    "name": "ipython",
    "version": 3
   },
   "file_extension": ".py",
   "mimetype": "text/x-python",
   "name": "python",
   "nbconvert_exporter": "python",
   "pygments_lexer": "ipython3",
   "version": "3.9.12"
  }
 },
 "nbformat": 4,
 "nbformat_minor": 5
}
