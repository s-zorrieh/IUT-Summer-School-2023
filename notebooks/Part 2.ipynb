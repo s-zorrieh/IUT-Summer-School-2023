{
 "cells": [
  {
   "cell_type": "code",
   "execution_count": null,
   "id": "676b3ef7",
   "metadata": {},
   "outputs": [],
   "source": [
    "DIR='/home/RootFiles/'\n",
    "\n",
    "import ROOT\n",
    "%jsroot on\n",
    "\n",
    "canvas = ROOT.TCanvas(\"MainCanvas\")"
   ]
  },
  {
   "cell_type": "markdown",
   "id": "72fa3be7",
   "metadata": {},
   "source": [
    "# Some usefull functions"
   ]
  },
  {
   "cell_type": "code",
   "execution_count": null,
   "id": "eb63d0c5",
   "metadata": {},
   "outputs": [],
   "source": [
    "def get_histogram(file_dir, key, **hist_args):\n",
    "    with ROOT.TFile.Open(f\"{DIR}/{file_dir}\") as file:\n",
    "        hist = file.demo.Get(key)\n",
    "        hist.SetDirectory(0)\n",
    "        \n",
    "    if \"title\" in hist_args:\n",
    "        title = hist_args[\"title\"]\n",
    "        hist.SetTitle(title)\n",
    "    \n",
    "    if \"scale\" in hist_args:\n",
    "        scale = hist_args[\"scale\"]\n",
    "        hist.Scale(scale)\n",
    "        \n",
    "    return hist\n",
    "        \n",
    "def histogram_stack(name, historams, **stack_args):\n",
    "    stack = ROOT.THStack(name , \"\")\n",
    "    for hist in historams:\n",
    "        stack.Add(hist)\n",
    "    return stack\n"
   ]
  },
  {
   "cell_type": "markdown",
   "id": "9e28ca76",
   "metadata": {},
   "source": [
    "# Take steps to produce histograms..."
   ]
  },
  {
   "cell_type": "markdown",
   "id": "a6cd6b0c",
   "metadata": {
    "direction": "rtl"
   },
   "source": [
    "<div dir =\"rtl\">\n",
    "    \n",
    "<p>الان می‌خواهیم ببینیم که رویدادهای با 4 لپتون از کجا می‌آیند.<br>بنابراین لازم است برخوردهای پروتون-پروتون را شبیه‌سازی کنیم.<br>بیایید به رویدادهای شبیه‌سازی‌شده pp-&gt;ZZ-&gt;4muons نگاه کنیم. </p>\n",
    " \n",
    "</div> "
   ]
  },
  {
   "cell_type": "code",
   "execution_count": null,
   "id": "a6dbd8c2",
   "metadata": {},
   "outputs": [],
   "source": [
    "hzz4mu12_invmass = get_histogram(\"2012/simulation/ZZ4mu12.root\", \"mass4mu_8TeV_low\")\n",
    "hzz4mu12_invmass.Draw(\"HIST\")\n",
    "canvas.Draw()"
   ]
  },
  {
   "cell_type": "markdown",
   "id": "6eb7aeac",
   "metadata": {
    "direction": "rtl"
   },
   "source": [
    "<div dir =\"rtl\">\n",
    "    \n",
    "<p>اما این نمودار به خودی خود معنا ندارد.  برای اینکه تعبیر درستی از آن داشته باشیم، باید بدانیم چه تعداد رویداد برای کشیدن این نمودار استفاده شده‌اند.<br>برای سمپل ZZ4mu12 تعداد 1499064 رویداد تولید شده است. اگر تعداد در هر بین هیستوگرام به این مقدار کل تقسیم شود، پس می‌توان نمودار را به شکل احتمال ترجمه کرد. </p>\n",
    "</div> "
   ]
  },
  {
   "cell_type": "code",
   "execution_count": null,
   "id": "8744ce06",
   "metadata": {},
   "outputs": [],
   "source": [
    "nevtZZ4mu12 = 1499064\n",
    "hzz4mu12_invmass = get_histogram(\"2012/simulation/ZZ4mu12.root\", \"mass4mu_8TeV_low\", scale=1.0/nevtZZ4mu12)\n",
    "hzz4mu12_invmass.Draw(\"Hist\")\n",
    "canvas.Draw()"
   ]
  },
  {
   "cell_type": "markdown",
   "id": "94aeda8b",
   "metadata": {
    "direction": "rtl"
   },
   "source": [
    "<div dir =\"rtl\">\n",
    "    \n",
    "<p>از این نمودار دریافت می‌شود که چه کسری از رویدادهای pp-&gt;ZZ-&gt;4mu در سال 2012، 4 میون دارند و جرم ناوردا این 4 میون به چه صورتی توزیع شده است.  حالا سوال این است که اساسا چه تعداد از این رویدادها انتظار می‌رود در سال 2012 تولید شده باشند؟<br>برای پاسخ به این سوال، لازم است کمیت درخشندگی (luminosity) کل را برای سال 2012 بدانیم. اگر پارامتر درخشندگی را در سطح‌مقطع تولید این فرایند در انرژی مرکز جرم 8 تراالکترون‌ولت ضرب کنیم، تعداد انتظاری ما از این فرایند به‌دست می‌آید. </p>\n",
    "</div>    "
   ]
  },
  {
   "cell_type": "code",
   "execution_count": null,
   "id": "de7d0d76",
   "metadata": {},
   "outputs": [],
   "source": [
    "xsecZZ412 = 0.077\n",
    "lumi12 = 11580.\n",
    "sfZZ = 1.386\n",
    "\n",
    "totalNumberExpectedZZ = xsecZZ412 * lumi12 * sfZZ\n",
    "\n",
    "hzz4mu12_invmass = get_histogram(\"2012/simulation/ZZ4mu12.root\", \"mass4mu_8TeV_low\", scale=1.0/nevtZZ4mu12)\n",
    "\n",
    "hzz4mu12_invmass.Scale(totalNumberExpectedZZ)\n",
    "hzz4mu12_invmass.Draw('HIST')\n",
    "canvas.Draw()"
   ]
  },
  {
   "cell_type": "markdown",
   "id": "a202ad8f",
   "metadata": {
    "direction": "rtl"
   },
   "source": [
    "<div dir=\"rtl\">\n",
    "    \n",
    "<p>حالا این نمودار به درستی نماینده رویدادهای pp-&gt;ZZ-&gt;4mu در سال 2012 در این آنالیز است.<br>ما می‌توانیم این تمرین را برای هر دو سال 2011 و 2012 و حالت‌های مختلف 4 الکترون، 4 میون و 2الکترون-2میون تکرار کنیم.</p>\n",
    "</div>"
   ]
  },
  {
   "cell_type": "markdown",
   "id": "1ef4b266",
   "metadata": {},
   "source": [
    "# Histogram of $ZZ \\rightarrow 4l$ Events"
   ]
  },
  {
   "cell_type": "code",
   "execution_count": null,
   "id": "01235b34",
   "metadata": {},
   "outputs": [],
   "source": [
    "ROOT.gStyle.SetPalette(ROOT.kRainBow)\n",
    "\n",
    "lumi = {12:11580. , 11:2330.}\n",
    "\n",
    "sfZZ = 1.386\n",
    "\n",
    "zz_xsections = {12:{'4e':0.077 , '4mu':0.077 , '2mu2e':0.18},\n",
    "                11:{'4e':0.067 , '4mu':0.067 , '2mu2e':0.15}}\n",
    "\n",
    "zz_totals = {12:{'4mu':1499064 , '4e':1499093 , '2mu2e':1497445},\n",
    "            11:{'4mu':1447136 , '4e':1493308 , '2mu2e':1479879}}\n",
    "\n",
    "hists = []\n",
    "\n",
    "# Decay possibility \n",
    "for decaymode in ['4mu' , '4e' , '2mu2e']:\n",
    "    \n",
    "    # For the two years\n",
    "    for year in [11,12]:\n",
    "        \n",
    "        # Choose wich file do you want to open\n",
    "        file_directory  = f\"20{year}/simulation/ZZ{decaymode}{year}.root\"\n",
    "        \n",
    "        # ... and which histogram do you want to read\n",
    "        file_key        = f\"mass{decaymode}_8TeV_low\"\n",
    "        \n",
    "        # ... also, with a scale factor and a title\n",
    "        scale_factor    = zz_xsections[year][decaymode]*lumi[year]*sfZZ / zz_totals[year][decaymode] \n",
    "        histogram_title = f\"{decaymode.replace('mu' , '#mu')}, 20{year}\"\n",
    "        \n",
    "        # ... then, read the histogram\n",
    "        h = get_histogram(file  = file_directory,\n",
    "                          key   = file_key,\n",
    "                          scale = scale_factor,\n",
    "                          title = histogram_title)\n",
    "        \n",
    "        # ... finally append to the `hists` array.\n",
    "        hists.append(h)\n",
    "\n",
    "# Draw!\n",
    "ZZ4LepPlot = histogram_stack(\"ZZ4LeptPlot\", hists)\n",
    "ZZ4LepPlot.Draw(\"pfc plc pmc HIST\")\n",
    "ZZ4LepPlot.GetXaxis().SetTitle('m_{4l} [GeV]')\n",
    "\n",
    "canvas.BuildLegend(0.7, 0.7, 0.95, 0.95 , \"Invariant of 4 leptons\", \"f\")\n",
    "canvas.Draw()"
   ]
  },
  {
   "cell_type": "markdown",
   "id": "03fcef15",
   "metadata": {
    "direction": "rtl"
   },
   "source": [
    "<div dir=\"rtl\">\n",
    "\n",
    "<p>این نمودار می‌تواند برای رویدادهای TTbar و DY نیز تولید شود. برای این منظور به اطلاعات سطح‌مقطع و تعداد کل این رویدادها نیز نیاز داریم. سعی کنید این نمودارها را تولید کنید:</p>\n",
    "</div> "
   ]
  },
  {
   "cell_type": "markdown",
   "id": "378da00e",
   "metadata": {},
   "source": [
    "# Histogram of $t\\bar{t}$ Events "
   ]
  },
  {
   "cell_type": "code",
   "execution_count": null,
   "id": "0af9882a",
   "metadata": {},
   "outputs": [],
   "source": [
    "ROOT.gStyle.SetPalette(ROOT.kRainBow)\n",
    "\n",
    "sfTTBar = {11:0.11 , 12:1 }\n",
    "tt_xsections = {12:200. , 11:177.31}\n",
    "tt_totals = {12:6423106 , 11:9771205}\n",
    "\n",
    "hists = []\n",
    "\n",
    "for year in [11,12]:\n",
    "    file_directory = f\"20{year}/simulation/TTBar{year}.root\"\n",
    "    for decaymode in ['4mu' , '4e' , '2mu2e']:\n",
    "        \n",
    "        file_key        = f\"mass{decaymode}_8TeV_low\"\n",
    "        scale_factor    = tt_xsections[year]*lumi[year]*sfTTBar[year] / tt_totals[year]\n",
    "        histogram_title = \"{0}, 20{1}\".format( decaymode.replace('mu' , '#mu') ,year)\n",
    "        \n",
    "        # TODO:\n",
    "        current_hist = ...\n",
    "        ...\n",
    "        ...\n",
    "        ...\n",
    "        \n",
    "        \n",
    "        \n",
    "TTPlot = histogram_stack(\"TTPlot\",hists)\n",
    "\n",
    "TTPlot.Draw(\"pfc plc pmc HIST\")\n",
    "TTPlot.GetXaxis().SetTitle('m_{4l} [GeV]')\n",
    "\n",
    "canvas.BuildLegend(0.7, 0.7, 0.95, 0.95 , \"Invariant of 4 leptons\", \"f\")\n",
    "canvas.Draw()"
   ]
  },
  {
   "cell_type": "markdown",
   "id": "4bc7bb0c",
   "metadata": {},
   "source": [
    "# Histogram of Drell-Yan Events"
   ]
  },
  {
   "cell_type": "code",
   "execution_count": null,
   "id": "777983dd",
   "metadata": {},
   "outputs": [],
   "source": [
    "ROOT.gStyle.SetPalette(ROOT.kRainBow)\n",
    "\n",
    "sfDY = 1.12\n",
    "dy_xsections = {12:{10:10.742 , 50:2955.} ,\n",
    "               11:{10:9507. , 50:2475.}}\n",
    "dy_totals = {12:{10:6462290 , 50:29426492},\n",
    "             11:{10:39909640, 50:36408225}}\n",
    "\n",
    "hists = []\n",
    "for mass in [10,50]:\n",
    "    fname_extension = 'TuneZ' if mass == 50 else ''\n",
    "    for year in [11,12]:\n",
    "        file_directory = f\"20{year}/simulation/DY{mass}{fname_extension}{year}.root\"\n",
    "        \n",
    "        for decaymode in ['4mu' , '4e' , '2mu2e']:\n",
    "            file_key = f\"mass{decaymode}_8TeV_low\"\n",
    "            scale_factor = dy_xsections[year][mass]*lumi[year]*sfDY / dy_totals[year][mass]\n",
    "            histogram_title = \"DY({2}), {0}, 20{1}\".format( decaymode.replace('mu' , '#mu') ,year , mass)\n",
    "            \n",
    "            # TODO:\n",
    "            current_hist = ...\n",
    "            ...\n",
    "            ...\n",
    "            ...\n",
    "\n",
    "DYPlot = histogram_stack(\"DYtPlot\" , hists)\n",
    "\n",
    "DYPlot.Draw(\"pfc plc pmc HIST\")\n",
    "\n",
    "\n",
    "DYPlot.GetXaxis().SetTitle('m_{4l} [GeV]')\n",
    "\n",
    "canvas.BuildLegend(0.7, 0.7, 0.95, 0.95 , \"Invariant of 4 leptons\", \"f\")\n",
    "canvas.Draw()"
   ]
  }
 ],
 "metadata": {
  "kernelspec": {
   "display_name": "Python 3",
   "language": "python",
   "name": "python3"
  },
  "language_info": {
   "codemirror_mode": {
    "name": "ipython",
    "version": 3
   },
   "file_extension": ".py",
   "mimetype": "text/x-python",
   "name": "python",
   "nbconvert_exporter": "python",
   "pygments_lexer": "ipython3",
   "version": "3.9.12"
  }
 },
 "nbformat": 4,
 "nbformat_minor": 5
}
