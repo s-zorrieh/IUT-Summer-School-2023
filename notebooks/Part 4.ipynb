{
 "cells": [
  {
   "cell_type": "code",
   "execution_count": null,
   "id": "bd653f7a",
   "metadata": {},
   "outputs": [],
   "source": [
    "DIR=\"../inputs/RootFiles/\"\n",
    "import ROOT\n",
    "%jsroot on\n",
    "canvas = ROOT.TCanvas(\"c1\", \"\", 200, 10, 1000, 1000)\n",
    "ROOT.gStyle.SetOptStat(0)\n",
    "ROOT.gStyle.SetOptTitle(0)"
   ]
  },
  {
   "cell_type": "markdown",
   "id": "718497cd",
   "metadata": {},
   "source": [
    "# ... and More Functions"
   ]
  },
  {
   "cell_type": "code",
   "execution_count": null,
   "id": "75f5147d",
   "metadata": {},
   "outputs": [],
   "source": [
    "lumi = {12:11580. , 11:2330.}\n",
    "\n",
    "\n",
    "def get_histogram(file_dir, key, **hist_args):\n",
    "    with ROOT.TFile.Open(f\"{DIR}/{file_dir}\") as file:\n",
    "        hist = file.demo.Get(key)\n",
    "        hist.SetDirectory(0)\n",
    "        \n",
    "    if \"title\" in hist_args:\n",
    "        title = hist_args[\"title\"]\n",
    "        hist.SetTitle(title)\n",
    "    \n",
    "    if \"scale\" in hist_args:\n",
    "        scale = hist_args[\"scale\"]\n",
    "        hist.Scale(scale)\n",
    "    \n",
    "    return hist\n",
    "\n",
    "\n",
    "\n",
    "def histogram_stack(name, historams, last=False, ):\n",
    "    stack = ROOT.THStack(name , \"\")\n",
    "    for hist in historams:\n",
    "        stack.Add(hist)\n",
    "    \n",
    "    return stack\n",
    "    \n",
    "\n",
    "def create_canvas(name, histogram, drawing_format, x_title=None, y_title=None, legend_title=None):\n",
    "    canvas = ROOT.TCanvas(name)\n",
    "    histogram.Draw(drawing_format)\n",
    "    canvas.BuildLegend(0.7, 0.7, 0.95, 0.95 , legend_title, \"f\")\n",
    "    \n",
    "    if y_title is not None:\n",
    "        ...  # TODO\n",
    "    \n",
    "    if x_title is not None:\n",
    "        ...  # TODO\n",
    "    \n",
    "    return canvas\n",
    "\n",
    "def ZZto4lep_hists():\n",
    "    sfZZ = 1.386\n",
    "    zz_xsections = {12:{'4e':0.077 , '4mu':0.077 , '2mu2e':0.18},\n",
    "                    11:{'4e':0.067 , '4mu':0.067 , '2mu2e':0.15}}\n",
    "\n",
    "    zz_totals = {12:{'4mu':1499064 , '4e':1499093 , '2mu2e':1497445},\n",
    "                11:{'4mu':1447136 , '4e':1493308 , '2mu2e':1479879}}\n",
    "\n",
    "    hists = []\n",
    "    for decaymode in ['4mu' , '4e' , '2mu2e']:\n",
    "        for year in [11,12]:\n",
    "\n",
    "            file_directory  = f\"20{year}/simulation/ZZ{decaymode}{year}.root\"\n",
    "            file_key        = f\"mass{decaymode}_8TeV_low\"\n",
    "            scale_factor    = zz_xsections[year][decaymode]*lumi[year]*sfZZ / zz_totals[year][decaymode] \n",
    "            histogram_title = f\"{decaymode.replace('mu' , '#mu')}, 20{year}\"\n",
    "\n",
    "            h = get_histogram(file_dir = file_directory,\n",
    "                              key      = file_key,\n",
    "                              scale    = scale_factor,\n",
    "                              title    = histogram_title)\n",
    "            hists.append(h)\n",
    "\n",
    "    return hists\n",
    "\n",
    "def TTbarto4lep_hists():\n",
    "    tt_xsections = {12:200. , 11:177.31}\n",
    "    tt_totals    = {12:6423106 , 11:9771205}\n",
    "    sfTTBar      = {11:0.11 , 12:1 }\n",
    "\n",
    "    hists = []\n",
    "\n",
    "    for year in [11,12]:\n",
    "        file_directory = f\"20{year}/simulation/TTBar{year}.root\"\n",
    "\n",
    "        for decaymode in ['4mu' , '4e' , '2mu2e']:\n",
    "            file_key          = f\"mass{decaymode}_8TeV_low\"\n",
    "            scale_factor = tt_xsections[year]*lumi[year]*sfTTBar[year] / tt_totals[year]\n",
    "            histogram_title        = \"{0}, 20{1}\".format( decaymode.replace('mu' , '#mu') ,year)\n",
    "\n",
    "            current_hist = get_histogram(file_dir = file_directory,\n",
    "                              key      = file_key,\n",
    "                              scale    = scale_factor,\n",
    "                              title    = histogram_title)\n",
    "\n",
    "            hists.append(current_hist)\n",
    "\n",
    "    return hists\n",
    "\n",
    "\n",
    "def DrellYan_hists():\n",
    "    dy_xsections = {12:{10:10.742 , 50:2955.} ,\n",
    "                   11:{10:9507. , 50:2475.}}\n",
    "    \n",
    "    dy_totals    = {12:{10:6462290 , 50:29426492},\n",
    "                    11:{10:39909640, 50:36408225}}\n",
    "    \n",
    "    sfDY = 1.12\n",
    "    \n",
    "    hists = []\n",
    "    for mass in [10,50]:\n",
    "        fname_extension = 'TuneZ' if mass == 50 else ''\n",
    "        for year in [11,12]:\n",
    "            file_directory = f\"20{year}/simulation/DY{mass}{fname_extension}{year}.root\"\n",
    "\n",
    "            for decaymode in ['4mu' , '4e' , '2mu2e']:\n",
    "                file_key = f\"mass{decaymode}_8TeV_low\"\n",
    "                scale_factor = dy_xsections[year][mass]*lumi[year]*sfDY / dy_totals[year][mass]\n",
    "                histogram_title = \"DY({2}), {0}, 20{1}\".format( decaymode.replace('mu' , '#mu') ,year , mass)\n",
    "\n",
    "                current_hist = get_histogram(file_dir = file_directory,\n",
    "                                             key      = file_key,\n",
    "                                             scale    = scale_factor,\n",
    "                                             title    = histogram_title)\n",
    "\n",
    "                hists.append(current_hist)\n",
    "\n",
    "    return hists\n",
    "    \n",
    "def HZZto4lep_hists():\n",
    "    scalexsecHZZ = {12:0.0065 , 11:0.0057}\n",
    "    nevtHZZ      = {12:299973 , 11:299683 }\n",
    "    \n",
    "    hists = []\n",
    "\n",
    "    for y in [11,12]:\n",
    "        file_directory  = \"20{0}/simulation/HZZ{0}.root\".format(y)\n",
    "        \n",
    "        for decaymode in ['4mu' , '4e' , '2mu2e']:\n",
    "            \n",
    "            file_key        = \"mass{0}_8TeV_low\".format(decaymode)\n",
    "            scale_factor    = lumi[y]*scalexsecHZZ[y]/nevtHZZ[y]\n",
    "            histogram_title = \"{0}, 20{1}\".format(decaymode , y)\n",
    "            \n",
    "            current_hist = get_histogram(file_dir  = file_directory,\n",
    "                                          key      = file_key,\n",
    "                                          title    = histogram_title,\n",
    "                                          scale    = scale_factor)\n",
    "            hists.append(current_hist)\n",
    "    return hists\n",
    "\n",
    "def Data4lep_hists():\n",
    "    ROOT.gStyle.SetPalette(ROOT.kRainBow)\n",
    "    allHists = []\n",
    "\n",
    "    for lep in ['Mu' , 'E']:\n",
    "        for year in [11,12]:\n",
    "            file_directory  = \"20{0}/data/Double{1}{0}.root\".format(year , lep)\n",
    "            file_key        = \"mass4{0}_8TeV_low\".format(lep.lower())\n",
    "            histogram_title = \"4{0}, 20{1}\".format( '#mu' if lep==\"Mu\" else 'e',year)\n",
    "\n",
    "            h = get_histogram(file_dir = file_directory,\n",
    "                               key      = file_key,\n",
    "                               title    = histogram_title)\n",
    "\n",
    "            allHists.append(h)\n",
    "\n",
    "            if lep=='Mu': #if the doubleMu file is opened, 2mu2e histogram should also be read\n",
    "                file_key        = \"mass2mu2e_8TeV_low\"\n",
    "                histogram_title = \"2#mu+2e, 20{0}\".format(year)\n",
    "                h = get_histogram(file_dir = file_directory,\n",
    "                                  key      = file_key,\n",
    "                                  title    = histogram_title)\n",
    "                allHists.append(h)\n",
    "                \n",
    "    return allHists"
   ]
  },
  {
   "cell_type": "markdown",
   "id": "82cd1c4f",
   "metadata": {},
   "source": [
    "# Reading Background enevts"
   ]
  },
  {
   "cell_type": "code",
   "execution_count": null,
   "id": "d8da3cc4",
   "metadata": {},
   "outputs": [],
   "source": [
    "DY_stack = histogram_stack(\"DY\", DrellYan_hists())\n",
    "ZZ_stack = histogram_stack(\"ZZ\", ZZto4lep_hists())\n",
    "TT_stack = histogram_stack(\"TT\", TTbarto4lep_hists())\n",
    "\n",
    "DY = DY_stack.GetStack().Last()\n",
    "DY.SetLineColor(ROOT.kBlack)\n",
    "DY.SetFillColor(ROOT.kGreen -5)\n",
    "DY.SetLineWidth(2)\n",
    "DY.SetLineStyle(1)\n",
    "\n",
    "ZZ = ZZ_stack.GetStack().Last()\n",
    "ZZ.SetLineColor(ROOT.kBlack)\n",
    "ZZ.SetFillColor(ROOT.kAzure -9)\n",
    "ZZ.SetLineWidth(2)\n",
    "ZZ.SetLineStyle(1)\n",
    "\n",
    "TT = TT_stack.GetStack().Last()\n",
    "TT.SetLineColor(ROOT.kBlack)\n",
    "TT.SetFillColor(ROOT.kGray)\n",
    "TT.SetLineWidth(2)\n",
    "TT.SetLineStyle(1)\n",
    "\n",
    "background_events = [DY, TT, ZZ]"
   ]
  },
  {
   "cell_type": "code",
   "execution_count": null,
   "id": "b147d9c2",
   "metadata": {},
   "outputs": [],
   "source": [
    "simulation = histogram_stack(\"simulation\", background_events)"
   ]
  },
  {
   "cell_type": "code",
   "execution_count": null,
   "id": "33d02552",
   "metadata": {},
   "outputs": [],
   "source": [
    "simulation.Draw('hist')\n",
    "canvas.Draw()"
   ]
  },
  {
   "cell_type": "markdown",
   "id": "fe139e3f",
   "metadata": {},
   "source": [
    "# Reading the Signal"
   ]
  },
  {
   "cell_type": "code",
   "execution_count": null,
   "id": "0719373f",
   "metadata": {},
   "outputs": [],
   "source": [
    "HZZ_stack = histogram_stack(\"H\", HZZto4lep_hists())\n",
    "    \n",
    "signal = HZZ_stack.GetStack().Last()\n",
    "\n",
    "signal.SetLineColor(ROOT.kRed)\n",
    "signal.SetLineWidth(2)\n",
    "signal.SetLineStyle(1)\n",
    "signal.SetFillStyle(0)\n",
    "signal.SetFillColor(0)"
   ]
  },
  {
   "cell_type": "code",
   "execution_count": null,
   "id": "996056bf",
   "metadata": {
    "scrolled": false
   },
   "outputs": [],
   "source": [
    "signal.Draw(\"Hist\")\n",
    "canvas.Draw()"
   ]
  },
  {
   "cell_type": "markdown",
   "id": "77cdac5d",
   "metadata": {},
   "source": [
    "# Reading the Data"
   ]
  },
  {
   "cell_type": "code",
   "execution_count": null,
   "id": "e1ccd5c2",
   "metadata": {},
   "outputs": [],
   "source": [
    "Data_4l_stack = histogram_stack(\"Data4lep\", Data4lep_hists())\n",
    "Data_4l = Data_4l_stack.GetStack().Last()\n",
    "\n",
    "# Formatting \n",
    "Data_4l.SetMarkerColor(ROOT.kBlack)\n",
    "Data_4l.SetMarkerStyle(20)\n",
    "Data_4l.SetMarkerSize(1.7)\n",
    "Data_4l.SetLineColor(ROOT.kBlack)\n",
    "Data_4l.SetLineWidth(1)\n",
    "Data_4l.Draw(\"PE1\")\n"
   ]
  },
  {
   "cell_type": "code",
   "execution_count": null,
   "id": "ae36f1be",
   "metadata": {},
   "outputs": [],
   "source": [
    "Data_4l.Draw(\"PE1\")\n",
    "canvas.Draw()"
   ]
  },
  {
   "cell_type": "markdown",
   "id": "baa538ce",
   "metadata": {},
   "source": [
    "# Simulation: Background + Signal"
   ]
  },
  {
   "cell_type": "code",
   "execution_count": null,
   "id": "02612031",
   "metadata": {},
   "outputs": [],
   "source": [
    "simulation.Add(signal)\n",
    "simulation.Draw(\"Hist\")\n",
    "canvas.Draw()"
   ]
  },
  {
   "cell_type": "markdown",
   "id": "791ce105",
   "metadata": {},
   "source": [
    "# Compute $\\chi^2$ Statistic and p-value with `Chi2Test` Method"
   ]
  },
  {
   "cell_type": "code",
   "execution_count": null,
   "id": "271c5ded",
   "metadata": {
    "scrolled": true
   },
   "outputs": [],
   "source": [
    "Data_4l.Chi2Test(simulation.GetStack().Last(), \"Chi2 UW P\")  # Chi2"
   ]
  },
  {
   "cell_type": "code",
   "execution_count": null,
   "id": "c2749b64",
   "metadata": {},
   "outputs": [],
   "source": [
    "Data_4l.Chi2Test(simulation.GetStack().Last(), \"UW P\")  # p-value"
   ]
  },
  {
   "cell_type": "markdown",
   "id": "437c278a",
   "metadata": {},
   "source": [
    "# Minimizing the $\\chi^2$ statistic"
   ]
  },
  {
   "cell_type": "code",
   "execution_count": null,
   "id": "ea8f7d18",
   "metadata": {},
   "outputs": [],
   "source": [
    "import scipy.optimize as opt"
   ]
  },
  {
   "cell_type": "code",
   "execution_count": null,
   "id": "6c057681",
   "metadata": {},
   "outputs": [],
   "source": [
    "# TODO: Complete the function\n",
    "\n",
    "def ChiSquareStatistic(signal_strength, test='Chi2 UW'):\n",
    "    # Scaling the signal\n",
    "    signal.Scale(...)\n",
    "    \n",
    "    # Combine all events; Background + Signal\n",
    "    sim = ...\n",
    "    \n",
    "    # Compute Chi-square statistic\n",
    "    chi2 = Data_4l.Chi2Test(...)\n",
    "    \n",
    "    # Important: Re-scaling the signal to keep it unchanged\n",
    "    ...\n",
    "    \n",
    "    return chi2\n",
    "\n",
    "\n",
    "def ChiSquareMinimization(initial_guess=0.5):\n",
    "    res = opt.minimize(ChiSquareStatistic, x0=initial_guess)\n",
    "    \n",
    "    if res.success:\n",
    "        \n",
    "        print(\"================================\")\n",
    "        print(f\" Chi-Square Statistic: {res.fun:0.05f}\")\n",
    "        print(f\" Signal Intesity: {res.x[0]:0.05f}\")\n",
    "        print(\"================================\")\n",
    "        \n",
    "        return res.x, res.fun\n",
    "    \n",
    "    else:\n",
    "        print(\"================================\")\n",
    "        print(\"============Failed==============\")\n",
    "        print(\"================================\")\n",
    "    \n"
   ]
  },
  {
   "cell_type": "code",
   "execution_count": null,
   "id": "a0431be5",
   "metadata": {
    "scrolled": true
   },
   "outputs": [],
   "source": [
    "ss = ChiSquareMinimization()[0][0]\n",
    "p_value = ChiSquareStatistic(ss,'UW')"
   ]
  },
  {
   "cell_type": "markdown",
   "id": "986a0812",
   "metadata": {},
   "source": [
    "# Visualization the $\\chi^2$ w.r.t Signal Strength"
   ]
  },
  {
   "cell_type": "code",
   "execution_count": null,
   "id": "defea3be",
   "metadata": {},
   "outputs": [],
   "source": [
    "import numpy as np\n",
    "import plotly.express as px\n",
    "\n",
    "\n",
    "signal_strength = np.linspace(0.1, 2, 100)\n",
    "chi2_array      = [ChiSquareStatistic(ss) for ss in signal_strength]\n",
    "\n",
    "fig = px.scatter(x=signal_strength, y=chi2_array)\n",
    "fig.add_annotation(x=ss, y=ChiSquareStatistic(ss),\n",
    "            text=\"Best signal strength\",\n",
    "            showarrow=True,\n",
    "            arrowhead=1)\n",
    "\n",
    "fig.update_xaxes(title=r\"$\\frac{\\sigma}{\\sigma_{SM}}$\")\n",
    "fig.update_yaxes(title=r\"$\\chi^2$\");"
   ]
  },
  {
   "cell_type": "code",
   "execution_count": null,
   "id": "156d1e31",
   "metadata": {},
   "outputs": [],
   "source": [
    "fig.show()"
   ]
  },
  {
   "cell_type": "markdown",
   "id": "1c5dfed3",
   "metadata": {},
   "source": [
    "# Final Result"
   ]
  },
  {
   "cell_type": "code",
   "execution_count": null,
   "id": "b5c1fe67",
   "metadata": {},
   "outputs": [],
   "source": [
    "HZZ_stack = histogram_stack(\"H\", HZZto4lep_hists())\n",
    "    \n",
    "signal = HZZ_stack.GetStack().Last()\n",
    "\n",
    "signal.SetLineColor(ROOT.kRed)\n",
    "signal.SetLineWidth(2)\n",
    "signal.SetLineStyle(1)\n",
    "signal.SetFillStyle(0)\n",
    "signal.SetFillColor(0)\n",
    "\n",
    "Signal_scaled = False"
   ]
  },
  {
   "cell_type": "code",
   "execution_count": null,
   "id": "6b322c27",
   "metadata": {},
   "outputs": [],
   "source": [
    "if not Signal_scaled:\n",
    "    signal.Scale(ss)\n",
    "    Signal_scaled = True\n",
    "    \n",
    "simulation = histogram_stack(f\"sim\", [*background_events, signal])\n",
    "\n",
    "leg = ROOT.TLegend(.62, .70, .82, .88)\n",
    "leg.SetFillColor(0)\n",
    "leg.SetBorderSize(0)\n",
    "leg.SetTextFont(42)\n",
    "leg.SetTextSize(0.038)\n",
    "\n",
    "leg.AddEntry(Data_4l, \"Data\", \"PE1\")\n",
    "leg.AddEntry(DY, \"Z/#gamma* + X\", \"f\")\n",
    "leg.AddEntry(TT, \"TTBar\", \"f\")\n",
    "leg.AddEntry(ZZ, \"ZZ -> 4l\", \"f\")\n",
    "leg.AddEntry(signal, \"m_{H} = 125 GeV\", \"f\")\n",
    "\n",
    "simulation.Draw(\"hist\")\n",
    "Data_4l.Draw(\"PE1 same\")\n",
    "\n",
    "simulation.GetXaxis().SetTitle(\"m_{4l} (GeV)\")\n",
    "simulation.GetYaxis().SetTitle(\"Events / 3 GeV\")\n",
    "simulation.GetYaxis().SetTitleOffset(1.2)\n",
    "simulation.SetMaximum(30)\n",
    "\n",
    "txt1 = ROOT.TLatex()\n",
    "txt1.DrawTextNDC(0.15,0.84,f\"CMS Open Data\")\n",
    "txt1.DrawText(0.15,0.7,f\"p-value = {p_value:0.2f}\")\n",
    "txt1.SetTextSize(0.03)\n",
    "txt1.SetNDC()\n",
    "txt1.SetTextFont(42)\n",
    "txt1.DrawLatex(0.14, 0.91, \"#sqrt{s} = 7 TeV, L = 2.3 fb^{-1}, #sqrt{s} = 8 TeV, L = 11.6 fb^{-1}\" )\n",
    "\n",
    "leg.Draw()\n",
    "canvas.Draw()"
   ]
  }
 ],
 "metadata": {
  "@webio": {
   "lastCommId": null,
   "lastKernelId": null
  },
  "kernelspec": {
   "display_name": "Python 3",
   "language": "python",
   "name": "python3"
  },
  "language_info": {
   "codemirror_mode": {
    "name": "ipython",
    "version": 3
   },
   "file_extension": ".py",
   "mimetype": "text/x-python",
   "name": "python",
   "nbconvert_exporter": "python",
   "pygments_lexer": "ipython3",
   "version": "3.9.12"
  }
 },
 "nbformat": 4,
 "nbformat_minor": 5
}
